{
  "nbformat": 4,
  "nbformat_minor": 0,
  "metadata": {
    "colab": {
      "provenance": [],
      "authorship_tag": "ABX9TyPboC9D0XB4DhMM3KyLm+iH",
      "include_colab_link": true
    },
    "kernelspec": {
      "name": "python3",
      "display_name": "Python 3"
    },
    "language_info": {
      "name": "python"
    }
  },
  "cells": [
    {
      "cell_type": "markdown",
      "metadata": {
        "id": "view-in-github",
        "colab_type": "text"
      },
      "source": [
        "<a href=\"https://colab.research.google.com/github/ramyahramzy/MachineLearning/blob/main/similarity.ipynb\" target=\"_parent\"><img src=\"https://colab.research.google.com/assets/colab-badge.svg\" alt=\"Open In Colab\"/></a>"
      ]
    },
    {
      "cell_type": "code",
      "execution_count": null,
      "metadata": {
        "colab": {
          "base_uri": "https://localhost:8080/"
        },
        "id": "HpquRanvf_hr",
        "outputId": "e99e7627-96d9-4723-befb-7597d5ee7b6b"
      },
      "outputs": [
        {
          "output_type": "stream",
          "name": "stdout",
          "text": [
            "embeddings1 [[-0.1004432  -0.0773927  -0.00137417 ... -0.00104971  0.07181142\n",
            "   0.02205473]\n",
            " [ 0.13919117  0.00302905  0.04701475 ...  0.06407334 -0.01625159\n",
            "   0.06362095]\n",
            " [ 0.02266129 -0.00138855 -0.00561342 ... -0.02249006  0.08458397\n",
            "  -0.02826072]]\n",
            "The new movie is awesome\n",
            " - The dog plays in the garden   : 0.0543\n",
            " - The new movie is so great     : 0.8939\n",
            " - A woman watches TV            : -0.0502\n",
            "The cat sits outside\n",
            " - The dog plays in the garden   : 0.2838\n",
            " - The new movie is so great     : -0.0029\n",
            " - A woman watches TV            : 0.1310\n",
            "A man is playing guitar\n",
            " - The dog plays in the garden   : 0.2277\n",
            " - The new movie is so great     : -0.0136\n",
            " - A woman watches TV            : -0.0327\n"
          ]
        }
      ],
      "source": [
        "from sentence_transformers import SentenceTransformer\n",
        "\n",
        "model = SentenceTransformer(\"all-MiniLM-L6-v2\")\n",
        "\n",
        "# Two lists of sentences\n",
        "sentences1 = [\n",
        "    \"The new movie is awesome\",\n",
        "    \"The cat sits outside\",\n",
        "    \"A man is playing guitar\",\n",
        "]\n",
        "\n",
        "sentences2 = [\n",
        "    \"The dog plays in the garden\",\n",
        "    \"The new movie is so great\",\n",
        "    \"A woman watches TV\",\n",
        "]\n",
        "\n",
        "# Compute embeddings for both lists\n",
        "embeddings1 = model.encode(sentences1)\n",
        "print(\"embeddings1\",embeddings1)\n",
        "embeddings2 = model.encode(sentences2)\n",
        "\n",
        "# Compute cosine similarities\n",
        "similarities = model.similarity(embeddings1, embeddings2)\n",
        "\n",
        "# Output the pairs with their score\n",
        "for idx_i, sentence1 in enumerate(sentences1):\n",
        "    print(sentence1)\n",
        "    for idx_j, sentence2 in enumerate(sentences2):\n",
        "        print(f\" - {sentence2: <30}: {similarities[idx_i][idx_j]:.4f}\")"
      ]
    },
    {
      "cell_type": "code",
      "source": [
        "embeddings1.shape"
      ],
      "metadata": {
        "id": "QPu_6-85n3eG",
        "outputId": "bd330dc2-8c37-4c8f-d59e-2f8d61ca386d",
        "colab": {
          "base_uri": "https://localhost:8080/"
        }
      },
      "execution_count": null,
      "outputs": [
        {
          "output_type": "execute_result",
          "data": {
            "text/plain": [
              "(3, 384)"
            ]
          },
          "metadata": {},
          "execution_count": 6
        }
      ]
    }
  ]
}